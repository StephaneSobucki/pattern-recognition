{
 "cells": [
  {
   "cell_type": "code",
   "execution_count": 1,
   "metadata": {},
   "outputs": [],
   "source": [
    "import tensorflow as tf\n",
    "from tensorflow import keras\n",
    "from tensorflow.keras.layers import Flatten\n",
    "from tensorflow.keras.layers import Dense\n",
    "from tensorflow.keras.layers import Dropout\n",
    "\n",
    "from matplotlib import pyplot as plt\n",
    "import numpy as np"
   ]
  },
  {
   "cell_type": "code",
   "execution_count": 2,
   "metadata": {},
   "outputs": [
    {
     "name": "stdout",
     "output_type": "stream",
     "text": [
      "Downloading data from https://storage.googleapis.com/tensorflow/tf-keras-datasets/mnist.npz\n",
      "11493376/11490434 [==============================] - 0s 0us/step\n",
      "60000 train samples\n",
      "10000 test samples\n"
     ]
    }
   ],
   "source": [
    "(x_train, y_train), (x_test, y_test) = tf.keras.datasets.mnist.load_data()\n",
    "x_train = x_train.reshape(60000, 784)\n",
    "x_test = x_test.reshape(10000, 784)\n",
    "x_train = x_train.astype('float32')\n",
    "x_test = x_test.astype('float32')\n",
    "x_train /= 255\n",
    "x_test /= 255\n",
    "print(x_train.shape[0], 'train samples')\n",
    "print(x_test.shape[0], 'test samples')\n",
    "\n",
    "num_classes = 10\n",
    "\n",
    "# convert class vectors to binary class matrices\n",
    "y_train_one_hot = tf.keras.utils.to_categorical(y_train, num_classes)\n",
    "y_test_one_hot = tf.keras.utils.to_categorical(y_test, num_classes)"
   ]
  },
  {
   "cell_type": "code",
   "execution_count": 4,
   "metadata": {},
   "outputs": [
    {
     "name": "stdout",
     "output_type": "stream",
     "text": [
      "Model: \"sequential_1\"\n",
      "_________________________________________________________________\n",
      "Layer (type)                 Output Shape              Param #   \n",
      "=================================================================\n",
      "dense_3 (Dense)              (None, 120)               94200     \n",
      "_________________________________________________________________\n",
      "dropout_2 (Dropout)          (None, 120)               0         \n",
      "_________________________________________________________________\n",
      "dense_4 (Dense)              (None, 80)                9680      \n",
      "_________________________________________________________________\n",
      "dropout_3 (Dropout)          (None, 80)                0         \n",
      "_________________________________________________________________\n",
      "dense_5 (Dense)              (None, 10)                810       \n",
      "=================================================================\n",
      "Total params: 104,690\n",
      "Trainable params: 104,690\n",
      "Non-trainable params: 0\n",
      "_________________________________________________________________\n",
      "Train on 60000 samples, validate on 10000 samples\n",
      "Epoch 1/10\n",
      "60000/60000 [==============================] - 3s 57us/sample - loss: 0.3269 - accuracy: 0.9028 - val_loss: 0.1333 - val_accuracy: 0.9580\n",
      "Epoch 2/10\n",
      "60000/60000 [==============================] - 3s 50us/sample - loss: 0.1604 - accuracy: 0.9528 - val_loss: 0.1000 - val_accuracy: 0.9682\n",
      "Epoch 3/10\n",
      "60000/60000 [==============================] - 3s 51us/sample - loss: 0.1258 - accuracy: 0.9627 - val_loss: 0.0904 - val_accuracy: 0.9705\n",
      "Epoch 4/10\n",
      "60000/60000 [==============================] - 3s 51us/sample - loss: 0.1055 - accuracy: 0.9672 - val_loss: 0.0920 - val_accuracy: 0.9733\n",
      "Epoch 5/10\n",
      "60000/60000 [==============================] - 3s 51us/sample - loss: 0.0922 - accuracy: 0.9719 - val_loss: 0.0792 - val_accuracy: 0.9774\n",
      "Epoch 6/10\n",
      "60000/60000 [==============================] - 3s 51us/sample - loss: 0.0826 - accuracy: 0.9743 - val_loss: 0.0814 - val_accuracy: 0.9759\n",
      "Epoch 7/10\n",
      "60000/60000 [==============================] - 3s 52us/sample - loss: 0.0756 - accuracy: 0.9760 - val_loss: 0.0714 - val_accuracy: 0.9772\n",
      "Epoch 8/10\n",
      "60000/60000 [==============================] - 3s 51us/sample - loss: 0.0718 - accuracy: 0.9778 - val_loss: 0.0717 - val_accuracy: 0.9781\n",
      "Epoch 9/10\n",
      "60000/60000 [==============================] - 3s 51us/sample - loss: 0.0669 - accuracy: 0.9786 - val_loss: 0.0662 - val_accuracy: 0.9814\n",
      "Epoch 10/10\n",
      "60000/60000 [==============================] - 3s 50us/sample - loss: 0.0626 - accuracy: 0.9803 - val_loss: 0.0747 - val_accuracy: 0.9790\n",
      "Test loss: 0.07470542912764358\n",
      "Test accuracy: 0.979\n"
     ]
    }
   ],
   "source": [
    "# Séquentiel\n",
    "\n",
    "model = tf.keras.Sequential()\n",
    "model.add(Dense(120, activation='relu', input_shape=(784,)))\n",
    "model.add(Dropout(0.2))\n",
    "model.add(Dense(80, activation='relu'))\n",
    "model.add(Dropout(0.2))\n",
    "model.add(Dense(num_classes, activation='softmax'))\n",
    "\n",
    "model.summary()\n",
    "\n",
    "model.compile(loss='categorical_crossentropy',\n",
    "              optimizer=tf.keras.optimizers.Adam(),\n",
    "              metrics=['accuracy'])\n",
    "\n",
    "history = model.fit(x_train, y_train_one_hot,\n",
    "                    batch_size=32,\n",
    "                    epochs=10,\n",
    "                    verbose=1,\n",
    "                    validation_data=(x_test, y_test_one_hot))\n",
    "score = model.evaluate(x_test, y_test_one_hot, verbose=0)\n",
    "print('Test loss:', score[0])\n",
    "print('Test accuracy:', score[1])"
   ]
  },
  {
   "cell_type": "code",
   "execution_count": 5,
   "metadata": {},
   "outputs": [],
   "source": [
    "# Model subclassing\n",
    "\n",
    "class MLP(tf.keras.Model):\n",
    "    \n",
    "    def __init__(self):\n",
    "        super(MLP,self).__init__()\n",
    "        self.dense1 = Dense(120,activation='relu',input_shape=(784,))\n",
    "        self.dropout1 = Dropout(0.2)\n",
    "        self.dense2 = Dense(80, activation='relu')\n",
    "        self.dropout2 = Dropout(0.2)\n",
    "        self.dense3 = Dense(10, activation='softmax')\n",
    "        \n",
    "    def call(self,x):\n",
    "        x = self.dense1(x)\n",
    "        x = self.dropout1(x)\n",
    "        x = self.dense2(x)\n",
    "        x = self.dropout2(x)\n",
    "        return self.dense3(x)\n",
    "        \n",
    "    def compute_output_shape(self, input_shape):\n",
    "        # You need to override this function if you want to use the subclassed model\n",
    "        # as part of a functional-style model.\n",
    "        # Otherwise, this method is optional.\n",
    "        shape = tf.TensorShape(input_shape).as_list()\n",
    "        shape = [shape[0], self.num_classes]\n",
    "        print(shape)\n",
    "        return tf.TensorShape(shape)"
   ]
  },
  {
   "cell_type": "code",
   "execution_count": 11,
   "metadata": {},
   "outputs": [],
   "source": [
    "my_mlp2 = MLP()\n",
    "my_mlp2.compile(optimizer=tf.keras.optimizers.Adam(),loss='categorical_crossentropy', metrics=['accuracy'])"
   ]
  },
  {
   "cell_type": "code",
   "execution_count": 24,
   "metadata": {},
   "outputs": [
    {
     "name": "stdout",
     "output_type": "stream",
     "text": [
      "Train on 60000 samples, validate on 10000 samples\n",
      "Epoch 1/10\n",
      "60000/60000 [==============================] - 3s 57us/sample - loss: 0.0350 - accuracy: 0.9891 - val_loss: 0.0846 - val_accuracy: 0.9810\n",
      "Epoch 2/10\n",
      "60000/60000 [==============================] - 3s 50us/sample - loss: 0.0307 - accuracy: 0.9898 - val_loss: 0.0912 - val_accuracy: 0.9808\n",
      "Epoch 3/10\n",
      "60000/60000 [==============================] - 3s 51us/sample - loss: 0.0341 - accuracy: 0.9890 - val_loss: 0.0875 - val_accuracy: 0.9817\n",
      "Epoch 4/10\n",
      "60000/60000 [==============================] - 3s 54us/sample - loss: 0.0355 - accuracy: 0.9887 - val_loss: 0.0824 - val_accuracy: 0.9814\n",
      "Epoch 5/10\n",
      "60000/60000 [==============================] - 3s 51us/sample - loss: 0.0327 - accuracy: 0.9897 - val_loss: 0.0890 - val_accuracy: 0.9816\n",
      "Epoch 6/10\n",
      "60000/60000 [==============================] - 3s 52us/sample - loss: 0.0348 - accuracy: 0.9889 - val_loss: 0.0810 - val_accuracy: 0.9826\n",
      "Epoch 7/10\n",
      "60000/60000 [==============================] - 3s 52us/sample - loss: 0.0298 - accuracy: 0.9905 - val_loss: 0.0903 - val_accuracy: 0.9813\n",
      "Epoch 8/10\n",
      "60000/60000 [==============================] - 3s 53us/sample - loss: 0.0300 - accuracy: 0.9905 - val_loss: 0.0928 - val_accuracy: 0.9798\n",
      "Epoch 9/10\n",
      "60000/60000 [==============================] - 3s 51us/sample - loss: 0.0329 - accuracy: 0.9897 - val_loss: 0.0834 - val_accuracy: 0.9818\n",
      "Epoch 10/10\n",
      "60000/60000 [==============================] - 3s 54us/sample - loss: 0.0299 - accuracy: 0.9905 - val_loss: 0.0941 - val_accuracy: 0.9803\n",
      "Test loss: 0.09407716723160754\n",
      "Test accuracy: 0.9803000092506409\n"
     ]
    }
   ],
   "source": [
    "history = my_mlp2.fit(x_train,y_train_one_hot,batch_size=32,epochs=10, validation_data=(x_test, y_test_one_hot))\n",
    "score = my_mlp2.evaluate(x_test,y_test_one_hot,verbose=0)\n",
    "print(\"Test loss: {}\".format(score[0]))\n",
    "print(\"Test accuracy: {}\".format(score[1]))"
   ]
  },
  {
   "cell_type": "code",
   "execution_count": 25,
   "metadata": {},
   "outputs": [],
   "source": [
    "loss_object = tf.keras.losses.CategoricalCrossentropy()\n",
    "sgd = tf.keras.optimizers.SGD()\n",
    "my_mlp = MLP()"
   ]
  },
  {
   "cell_type": "code",
   "execution_count": 26,
   "metadata": {},
   "outputs": [],
   "source": [
    "def mlp_class(predictions):\n",
    "    return np.argmax(predictions,axis = 1)\n",
    "\n",
    "def score(y_true,predictions):\n",
    "    predictions = mlp_class(predictions)\n",
    "    return np.sum(y_true == predictions)/10000"
   ]
  },
  {
   "cell_type": "code",
   "execution_count": 27,
   "metadata": {},
   "outputs": [],
   "source": [
    "# Gradient Tape\n",
    "@tf.function\n",
    "def train(data,labels):\n",
    "    with tf.GradientTape() as tape:\n",
    "        predictions = my_mlp(data)\n",
    "        loss = loss_object(labels,predictions)\n",
    "    gradients = tape.gradient(loss, my_mlp.trainable_variables)\n",
    "    sgd.apply_gradients(zip(gradients,my_mlp.trainable_variables))"
   ]
  },
  {
   "cell_type": "code",
   "execution_count": 32,
   "metadata": {},
   "outputs": [],
   "source": [
    "EPOCHS = 10\n",
    "BATCH_SIZE = 32\n",
    "\n",
    "iterations = 60000//BATCH_SIZE\n",
    "\n",
    "for epoch in range(EPOCHS):\n",
    "    for iteration in range(iterations):\n",
    "        train(x_train[BATCH_SIZE*(iteration-1):BATCH_SIZE*(iteration),:],\n",
    "              y_train_one_hot[BATCH_SIZE*(iteration-1):BATCH_SIZE*(iteration),:])"
   ]
  },
  {
   "cell_type": "code",
   "execution_count": 33,
   "metadata": {},
   "outputs": [
    {
     "name": "stdout",
     "output_type": "stream",
     "text": [
      "Test loss: 0.08430710434913635\n",
      "Accuracy: 0.9757\n"
     ]
    }
   ],
   "source": [
    "predictions = my_mlp(x_test)\n",
    "error = loss_object(y_test_one_hot,predictions)\n",
    "accuracy = score(y_test,predictions)\n",
    "print(\"Test loss: {}\".format(error))\n",
    "print(\"Accuracy: {}\".format(accuracy))"
   ]
  },
  {
   "cell_type": "code",
   "execution_count": null,
   "metadata": {},
   "outputs": [],
   "source": []
  }
 ],
 "metadata": {
  "kernelspec": {
   "display_name": "Python 3",
   "language": "python",
   "name": "python3"
  },
  "language_info": {
   "codemirror_mode": {
    "name": "ipython",
    "version": 3
   },
   "file_extension": ".py",
   "mimetype": "text/x-python",
   "name": "python",
   "nbconvert_exporter": "python",
   "pygments_lexer": "ipython3",
   "version": "3.7.9"
  }
 },
 "nbformat": 4,
 "nbformat_minor": 2
}
